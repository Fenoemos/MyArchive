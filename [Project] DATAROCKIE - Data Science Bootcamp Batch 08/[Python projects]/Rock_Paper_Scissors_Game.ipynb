{
  "nbformat": 4,
  "nbformat_minor": 0,
  "metadata": {
    "colab": {
      "provenance": [],
      "authorship_tag": "ABX9TyMH3yILsREPAvwjB3XDYf/p",
      "include_colab_link": true
    },
    "kernelspec": {
      "name": "python3",
      "display_name": "Python 3"
    },
    "language_info": {
      "name": "python"
    }
  },
  "cells": [
    {
      "cell_type": "markdown",
      "metadata": {
        "id": "view-in-github",
        "colab_type": "text"
      },
      "source": [
        "<a href=\"https://colab.research.google.com/github/Fenoemos/MyArchive/blob/main/%5BProject%5D%20DATAROCKIE%20-%20Data%20Science%20Bootcamp%20Batch%2008/%5BPython%20projects%5D/Rock_Paper_Scissors_Game.ipynb\" target=\"_parent\"><img src=\"https://colab.research.google.com/assets/colab-badge.svg\" alt=\"Open In Colab\"/></a>"
      ]
    },
    {
      "cell_type": "markdown",
      "source": [
        "# Game \"Rock Paper Scissors\""
      ],
      "metadata": {
        "id": "ssIxuS_KHapc"
      }
    },
    {
      "cell_type": "code",
      "execution_count": 1,
      "metadata": {
        "id": "jP3szLn4yt8C",
        "colab": {
          "base_uri": "https://localhost:8080/"
        },
        "outputId": "c3cd0dfb-cbff-4f5e-adf1-7f27532fa234"
      },
      "outputs": [
        {
          "output_type": "stream",
          "name": "stdout",
          "text": [
            "Welcome to rock paper scissors game\n",
            "\n",
            "This is an option for you\n",
            "1 Rock\n",
            "2 Paper\n",
            "3 Scissors\n",
            "\n",
            "Type number that represent your option: \n",
            "1\n",
            "Your option is rock and PC option is scissors so, you win!!\n",
            "\n",
            "please choose 'y' to continue play or 'n' to summary your score and exit game\n",
            "y\n",
            "This is an option for you\n",
            "1 Rock\n",
            "2 Paper\n",
            "3 Scissors\n",
            "\n",
            "Type number that represent your option: \n",
            "2\n",
            "Your option is paper and PC option is rock so, you win!!\n",
            "\n",
            "please choose 'y' to continue play or 'n' to summary your score and exit game\n",
            "y\n",
            "This is an option for you\n",
            "1 Rock\n",
            "2 Paper\n",
            "3 Scissors\n",
            "\n",
            "Type number that represent your option: \n",
            "3\n",
            "Your option is scissors and PC option is scissors so, you just tie\n",
            "\n",
            "please choose 'y' to continue play or 'n' to summary your score and exit game\n",
            "n\n",
            "\n",
            "Your score is showed below\n",
            "{'win': 2, 'tie': 1}\n"
          ]
        }
      ],
      "source": [
        "# import random\n",
        "import random\n",
        "\n",
        "# define function\n",
        "def pyc():\n",
        "    print(\"Welcome to rock paper scissors game\\n\")\n",
        "    firstplay = \"y\"\n",
        "    play = firstplay\n",
        "    player_score_log = []\n",
        "    options = [1, 2, 3] # Order as: \"Rock\", \"Paper\", \"Scissors\"\n",
        "    option = [\"rock\", \"paper\", \"scissors\"]\n",
        "    pc_choice = 0\n",
        "    # while is always true if player still want to play\n",
        "    while (play == \"y\"):\n",
        "        pc_choice = random.choice(options)\n",
        "        print(\"This is an option for you\")\n",
        "        print(1, \"Rock\")\n",
        "        print(2, \"Paper\")\n",
        "        print(3, \"Scissors\\n\")\n",
        "        player_choice = int(input(\"Type number that represent your option: \\n\"))\n",
        "        # to check who is the winner\n",
        "        if player_choice == pc_choice and pc_choice == 1:\n",
        "           print(f\"Your option is {option[0]} and PC option is {option[0]} so, you just tie\\n\")\n",
        "           player_score_log.append(\"tie\")\n",
        "        elif player_choice == pc_choice and pc_choice == 2:\n",
        "           print(f\"Your option is {option[1]} and PC option is {option[1]} so, you just tie\\n\")\n",
        "           player_score_log.append(\"tie\")\n",
        "        elif player_choice == pc_choice and pc_choice == 3:\n",
        "           print(f\"Your option is {option[2]} and PC option is {option[2]} so, you just tie\\n\")\n",
        "           player_score_log.append(\"tie\")\n",
        "        elif player_choice == 1 and pc_choice == 3:\n",
        "           print(f\"Your option is {option[0]} and PC option is {option[2]} so, you win!!\\n\")\n",
        "           player_score_log.append(\"win\")\n",
        "        elif player_choice == 2 and pc_choice == 1:\n",
        "           print(f\"Your option is {option[1]} and PC option is {option[0]} so, you win!!\\n\")\n",
        "           player_score_log.append(\"win\")\n",
        "        elif player_choice == 3 and pc_choice == 2:\n",
        "           print(f\"Your option is {option[2]} and PC option is {option[1]} so, you win!!\\n\")\n",
        "           player_score_log.append(\"win\")\n",
        "        elif player_choice == 1 and pc_choice == 2:\n",
        "           print(f\"Your option is {option[0]} and PC option is {option[1]} so, sorry you loss\\n\")\n",
        "           player_score_log.append(\"loss\")\n",
        "        elif player_choice == 2 and pc_choice == 3:\n",
        "           print(f\"Your option is {option[1]} and PC option is {option[2]} so, sorry you loss\\n\")\n",
        "           player_score_log.append(\"loss\")\n",
        "        elif player_choice == 3 and pc_choice == 1:\n",
        "           print(f\"Your option is {option[2]} and PC option is {option[0]} so, sorry you loss\\n\")\n",
        "           player_score_log.append(\"loss\")\n",
        "\n",
        "        play = input(\"please choose 'y' to continue play or 'n' to summary your score and exit game\\n\")\n",
        "        play = play.lower()\n",
        "\n",
        "    print(\"\\nYour score is showed below\")\n",
        "    result = dict((i, player_score_log.count(i)) for i in player_score_log)\n",
        "    print(result)\n",
        "# to run game\n",
        "pyc()"
      ]
    },
    {
      "cell_type": "code",
      "source": [],
      "metadata": {
        "id": "n0PkW7i-20LD"
      },
      "execution_count": null,
      "outputs": []
    }
  ]
}